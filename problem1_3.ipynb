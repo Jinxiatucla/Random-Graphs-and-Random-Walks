{
 "cells": [
  {
   "cell_type": "markdown",
   "metadata": {},
   "source": [
    "Problem 3(a):\n",
    "---"
   ]
  },
  {
   "cell_type": "code",
   "execution_count": 1,
   "metadata": {},
   "outputs": [
    {
     "name": "stderr",
     "output_type": "stream",
     "text": [
      "\n",
      "Attaching package: 'igraph'\n",
      "\n",
      "The following objects are masked from 'package:stats':\n",
      "\n",
      "    decompose, spectrum\n",
      "\n",
      "The following object is masked from 'package:base':\n",
      "\n",
      "    union\n",
      "\n"
     ]
    }
   ],
   "source": [
    "library('igraph')"
   ]
  },
  {
   "cell_type": "code",
   "execution_count": 12,
   "metadata": {},
   "outputs": [
    {
     "name": "stderr",
     "output_type": "stream",
     "text": [
      "Warning message in xy.coords(x, y, xlabel, ylabel, log):\n",
      "\"1 y value <= 0 omitted from logarithmic plot\""
     ]
    },
    {
     "data": {
      "image/png": "[encoded data removed]",
      "text/plain": [
       "plot without title"
      ]
     },
     "metadata": {},
     "output_type": "display_data"
    }
   ],
   "source": [
    "g <- aging.prefatt.game (1000, pa.exp=1, aging.exp=-1, m = 1, aging.bin = 300,\n",
    "     out.dist = NULL, out.seq = NULL, out.pref = FALSE,\n",
    "     directed = FALSE, zero.deg.appeal = 1, zero.age.appeal = 0,\n",
    "     deg.coef = 1, age.coef = 1, time.window = NULL)\n",
    "plot(degree.distribution(g), log=\"xy\", xlab='log(degree)', ylab='log(frequency)')\n"
   ]
  },
  {
   "cell_type": "markdown",
   "metadata": {},
   "source": [
    "Problem 3(b):\n",
    "---"
   ]
  },
  {
   "cell_type": "code",
   "execution_count": 13,
   "metadata": {},
   "outputs": [
    {
     "data": {
      "text/html": [
       "0.934286638991344"
      ],
      "text/latex": [
       "0.934286638991344"
      ],
      "text/markdown": [
       "0.934286638991344"
      ],
      "text/plain": [
       "[1] 0.9342866"
      ]
     },
     "metadata": {},
     "output_type": "display_data"
    }
   ],
   "source": [
    "fg <- fastgreedy.community(g)\n",
    "modularity(g,membership(fg))"
   ]
  },
  {
   "cell_type": "code",
   "execution_count": null,
   "metadata": {},
   "outputs": [],
   "source": []
  }
 ],
 "metadata": {
  "kernelspec": {
   "display_name": "R",
   "language": "R",
   "name": "ir"
  },
  "language_info": {
   "codemirror_mode": "r",
   "file_extension": ".r",
   "mimetype": "text/x-r-source",
   "name": "R",
   "pygments_lexer": "r",
   "version": "3.4.3"
  }
 },
 "nbformat": 4,
 "nbformat_minor": 2
}
